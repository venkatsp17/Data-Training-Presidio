{
 "cells": [
  {
   "cell_type": "code",
   "execution_count": 6,
   "id": "b4acd885-2131-4fa9-a795-b8813966b400",
   "metadata": {},
   "outputs": [],
   "source": [
    "import pyspark"
   ]
  },
  {
   "cell_type": "code",
   "execution_count": null,
   "id": "58d11e45-047d-42b0-9cd3-b415397d3ebe",
   "metadata": {},
   "outputs": [],
   "source": [
    "from pyspark.sql import SparkSession\n",
    "\n",
    "if 'spark' in locals():\n",
    "    spark.stop()\n",
    "\n",
    "spark = SparkSession.builder.appName(\"Covid Data Analysis\").getOrCreate()"
   ]
  },
  {
   "cell_type": "code",
   "execution_count": null,
   "id": "281066ac-de8e-43a1-8e2e-e3f2afe0ab48",
   "metadata": {},
   "outputs": [],
   "source": [
    "df = spark.read.csv(\"covid_data.csv\", header=True, inferSchema=True)"
   ]
  },
  {
   "cell_type": "code",
   "execution_count": null,
   "id": "ee950d9d-48d3-4d4a-85f9-8946fecdfd04",
   "metadata": {},
   "outputs": [],
   "source": [
    "df = df.withColumn(\"Name of State / UT\", lower(col(\"Name of State / UT\")))\n",
    "df.show()"
   ]
  },
  {
   "cell_type": "code",
   "execution_count": null,
   "id": "bf682422-9d66-4cda-b654-c85781e165a0",
   "metadata": {},
   "outputs": [],
   "source": [
    "max_cases_day = df.groupBy(\"Date\").sum(\"New cases\").orderBy(col(\"sum(New cases)\").desc()).first()\n",
    "print(f\"Day with the most cases: {max_cases_day['Date']} with {max_cases_day['sum(New cases)']} cases\")"
   ]
  },
  {
   "cell_type": "code",
   "execution_count": null,
   "id": "9c71b586-58ae-4553-8e77-b1ff3726f83c",
   "metadata": {},
   "outputs": [],
   "source": [
    "second_largest_state = df.groupBy(\"Name of State / UT\").sum(\"Total Confirmed cases\").orderBy(col(\"sum(Total Confirmed cases)\").desc()).collect()[1]\n",
    "print(f\"State with the second-largest number of cases: {second_largest_state['Name of State / UT']} with {second_largest_state['sum(Total Confirmed cases)']} cases\")"
   ]
  },
  {
   "cell_type": "code",
   "execution_count": null,
   "id": "5b263e63-00d5-44a2-a0ea-dcb660db2159",
   "metadata": {},
   "outputs": [],
   "source": [
    "min_death_ut = df.groupBy(\"Name of State / UT\").sum(\"Death\").orderBy(col(\"sum(Death)\").asc()).first()\n",
    "print(f\"Union Territory with the least deaths: {min_death_ut['Name of State / UT']} with {min_death_ut['sum(Death)']} deaths\")"
   ]
  },
  {
   "cell_type": "code",
   "execution_count": null,
   "id": "173690e1-4ab9-4b04-8626-65745da36c2d",
   "metadata": {},
   "outputs": [],
   "source": [
    "df = df.withColumn(\"death_ratio\", col(\"Death\") / col(\"Total Confirmed cases\"))\n",
    "\n",
    "lowest_ratio_state = df.groupBy(\"Name of State / UT\").min(\"death_ratio\").orderBy(col(\"min(death_ratio)\").asc()).first()\n",
    "print(f\"State with the lowest death to confirmed cases ratio: {lowest_ratio_state['Name of State / UT']} with a ratio of {lowest_ratio_state['min(death_ratio)']}\")\n"
   ]
  },
  {
   "cell_type": "code",
   "execution_count": null,
   "id": "79a8f955-2649-4ef0-b027-ebbe8c48d185",
   "metadata": {},
   "outputs": [],
   "source": [
    "df = df.withColumn(\"month\", date_format(col(\"Date\"), \"MM\"))\n",
    "\n",
    "max_recovered_month = df.groupBy(\"month\").sum(\"New recovered\").orderBy(col(\"sum(New recovered)\").desc()).first()\n",
    "\n",
    "from calendar import month_name\n",
    "month_name_str = month_name[int(max_recovered_month['month'])]\n",
    "print(f\"Month with the most newer recovered cases: {month_name_str} with {max_recovered_month['sum(New recovered)']} recovered cases\")\n"
   ]
  },
  {
   "cell_type": "code",
   "execution_count": null,
   "id": "3e57e2d4-ea30-4b1f-950b-17a6dc12c78d",
   "metadata": {},
   "outputs": [],
   "source": [
    "spark.stop()"
   ]
  }
 ],
 "metadata": {
  "kernelspec": {
   "display_name": "pyspark-env",
   "language": "python",
   "name": "pyspark-env"
  },
  "language_info": {
   "codemirror_mode": {
    "name": "ipython",
    "version": 3
   },
   "file_extension": ".py",
   "mimetype": "text/x-python",
   "name": "python",
   "nbconvert_exporter": "python",
   "pygments_lexer": "ipython3",
   "version": "3.12.4"
  }
 },
 "nbformat": 4,
 "nbformat_minor": 5
}
